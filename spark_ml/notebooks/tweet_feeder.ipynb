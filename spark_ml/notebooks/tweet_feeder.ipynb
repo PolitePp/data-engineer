{
 "cells": [
  {
   "cell_type": "code",
   "execution_count": 1,
   "metadata": {},
   "outputs": [
    {
     "name": "stdout",
     "output_type": "stream",
     "text": [
      "Current spark version is 2.4.4\n"
     ]
    }
   ],
   "source": [
    "println(s\"Current spark version is ${spark.version}\")"
   ]
  },
  {
   "cell_type": "code",
   "execution_count": 2,
   "metadata": {},
   "outputs": [
    {
     "name": "stdout",
     "output_type": "stream",
     "text": [
      "Total tweets in file: 1600000\n"
     ]
    },
    {
     "data": {
      "text/plain": [
       "dataSchema = StructType(StructField(target,IntegerType,true), StructField(id,LongType,true), StructField(raw_timestamp,StringType,true), StructField(query_status,StringType,true), StructField(author,StringType,true), StructField(tweet,StringType,true))\n",
       "dataPath = /home/jovyan/data/training.1600000.processed.noemoticon.csv\n",
       "raw_sentiment = [tweet: string]\n"
      ]
     },
     "metadata": {},
     "output_type": "display_data",
     "source": "user"
    },
    {
     "data": {
      "text/plain": [
       "[tweet: string]"
      ]
     },
     "execution_count": 2,
     "metadata": {},
     "output_type": "execute_result"
    }
   ],
   "source": [
    "import org.apache.spark.sql.types.{StructType, StructField, IntegerType, LongType, StringType}\n",
    "\n",
    "val dataSchema = new StructType()\n",
    "    .add(\"target\", IntegerType)\n",
    "    .add(\"id\", LongType)\n",
    "    .add(\"raw_timestamp\", StringType)\n",
    "    .add(\"query_status\", StringType)\n",
    "    .add(\"author\", StringType)\n",
    "    .add(\"tweet\", StringType)\n",
    "\n",
    "    \n",
    "val dataPath= \"/home/jovyan/data/training.1600000.processed.noemoticon.csv\"\n",
    "\n",
    "val raw_sentiment = spark.read\n",
    "    .format(\"csv\")\n",
    "    .option(\"header\",false)\n",
    "    .schema(dataSchema)\n",
    "    .load(dataPath)\n",
    "    .selectExpr(\"tweet\")\n",
    "\n",
    "println(s\"Total tweets in file: ${raw_sentiment.count}\")\n"
   ]
  },
  {
   "cell_type": "code",
   "execution_count": 3,
   "metadata": {},
   "outputs": [
    {
     "name": "stdout",
     "output_type": "stream",
     "text": [
      "Streaming started!\n"
     ]
    },
    {
     "data": {
      "text/plain": [
       "timer = java.util.Timer@337b63be\n",
       "task = $anon$1@47e282fb\n"
      ]
     },
     "metadata": {},
     "output_type": "display_data",
     "source": "user"
    },
    {
     "data": {
      "text/plain": [
       "$anon$1@47e282fb"
      ]
     },
     "execution_count": 3,
     "metadata": {},
     "output_type": "execute_result"
    },
    {
     "name": "stdout",
     "output_type": "stream",
     "text": [
      "2020-02-10T17:27:25.865Z - saved some data to the events stream!\n",
      "2020-02-10T17:27:29Z - saved some data to the events stream!\n",
      "2020-02-10T17:27:32.077Z - saved some data to the events stream!\n",
      "2020-02-10T17:27:35.040Z - saved some data to the events stream!\n",
      "2020-02-10T17:27:38.285Z - saved some data to the events stream!\n",
      "2020-02-10T17:27:41.370Z - saved some data to the events stream!\n",
      "2020-02-10T17:27:44.511Z - saved some data to the events stream!\n",
      "2020-02-10T17:27:47.535Z - saved some data to the events stream!\n",
      "2020-02-10T17:27:50.608Z - saved some data to the events stream!\n",
      "2020-02-10T17:27:53.857Z - saved some data to the events stream!\n",
      "2020-02-10T17:27:56.916Z - saved some data to the events stream!\n",
      "2020-02-10T17:27:59.995Z - saved some data to the events stream!\n",
      "2020-02-10T17:28:03.206Z - saved some data to the events stream!\n",
      "2020-02-10T17:28:06.393Z - saved some data to the events stream!\n",
      "2020-02-10T17:28:09.781Z - saved some data to the events stream!\n",
      "2020-02-10T17:28:12.775Z - saved some data to the events stream!\n",
      "2020-02-10T17:28:15.761Z - saved some data to the events stream!\n",
      "2020-02-10T17:28:18.685Z - saved some data to the events stream!\n",
      "2020-02-10T17:28:21.661Z - saved some data to the events stream!\n",
      "2020-02-10T17:28:24.610Z - saved some data to the events stream!\n",
      "2020-02-10T17:28:27.526Z - saved some data to the events stream!\n",
      "2020-02-10T17:28:30.470Z - saved some data to the events stream!\n",
      "2020-02-10T17:28:33.628Z - saved some data to the events stream!\n",
      "2020-02-10T17:28:36.604Z - saved some data to the events stream!\n",
      "2020-02-10T17:28:39.650Z - saved some data to the events stream!\n",
      "2020-02-10T17:28:42.586Z - saved some data to the events stream!\n",
      "2020-02-10T17:28:45.559Z - saved some data to the events stream!\n",
      "2020-02-10T17:28:48.669Z - saved some data to the events stream!\n",
      "2020-02-10T17:28:51.677Z - saved some data to the events stream!\n",
      "2020-02-10T17:28:54.627Z - saved some data to the events stream!\n",
      "2020-02-10T17:28:57.552Z - saved some data to the events stream!\n",
      "2020-02-10T17:29:00.572Z - saved some data to the events stream!\n",
      "2020-02-10T17:29:03.576Z - saved some data to the events stream!\n",
      "2020-02-10T17:29:06.763Z - saved some data to the events stream!\n",
      "2020-02-10T17:29:09.869Z - saved some data to the events stream!\n",
      "2020-02-10T17:29:13.174Z - saved some data to the events stream!\n",
      "2020-02-10T17:29:16.562Z - saved some data to the events stream!\n",
      "2020-02-10T17:29:19.756Z - saved some data to the events stream!\n",
      "2020-02-10T17:29:22.983Z - saved some data to the events stream!\n",
      "2020-02-10T17:29:25.999Z - saved some data to the events stream!\n",
      "2020-02-10T17:29:28.996Z - saved some data to the events stream!\n",
      "2020-02-10T17:29:31.936Z - saved some data to the events stream!\n",
      "2020-02-10T17:29:34.923Z - saved some data to the events stream!\n",
      "2020-02-10T17:29:38.043Z - saved some data to the events stream!\n",
      "2020-02-10T17:29:41.345Z - saved some data to the events stream!\n",
      "2020-02-10T17:29:44.377Z - saved some data to the events stream!\n",
      "2020-02-10T17:29:47.360Z - saved some data to the events stream!\n",
      "2020-02-10T17:29:50.459Z - saved some data to the events stream!\n",
      "2020-02-10T17:29:53.538Z - saved some data to the events stream!\n",
      "2020-02-10T17:29:56.478Z - saved some data to the events stream!\n",
      "2020-02-10T17:29:59.456Z - saved some data to the events stream!\n",
      "2020-02-10T17:30:02.508Z - saved some data to the events stream!\n",
      "2020-02-10T17:30:05.489Z - saved some data to the events stream!\n",
      "2020-02-10T17:30:08.502Z - saved some data to the events stream!\n",
      "2020-02-10T17:30:11.496Z - saved some data to the events stream!\n",
      "2020-02-10T17:30:14.459Z - saved some data to the events stream!\n",
      "2020-02-10T17:30:17.419Z - saved some data to the events stream!\n",
      "2020-02-10T17:30:20.379Z - saved some data to the events stream!\n",
      "2020-02-10T17:30:23.339Z - saved some data to the events stream!\n",
      "2020-02-10T17:30:26.334Z - saved some data to the events stream!\n",
      "2020-02-10T17:30:29.317Z - saved some data to the events stream!\n",
      "2020-02-10T17:30:32.252Z - saved some data to the events stream!\n",
      "2020-02-10T17:30:35.223Z - saved some data to the events stream!\n",
      "2020-02-10T17:30:38.154Z - saved some data to the events stream!\n",
      "2020-02-10T17:30:41.079Z - saved some data to the events stream!\n",
      "2020-02-10T17:30:44.055Z - saved some data to the events stream!\n",
      "2020-02-10T17:30:47.040Z - saved some data to the events stream!\n",
      "2020-02-10T17:30:49.980Z - saved some data to the events stream!\n",
      "2020-02-10T17:30:52.935Z - saved some data to the events stream!\n",
      "2020-02-10T17:30:55.908Z - saved some data to the events stream!\n",
      "2020-02-10T17:30:58.844Z - saved some data to the events stream!\n",
      "2020-02-10T17:31:01.773Z - saved some data to the events stream!\n",
      "2020-02-10T17:31:04.695Z - saved some data to the events stream!\n",
      "2020-02-10T17:31:07.630Z - saved some data to the events stream!\n",
      "2020-02-10T17:31:10.592Z - saved some data to the events stream!\n",
      "2020-02-10T17:31:13.547Z - saved some data to the events stream!\n",
      "2020-02-10T17:31:16.510Z - saved some data to the events stream!\n",
      "2020-02-10T17:31:19.457Z - saved some data to the events stream!\n",
      "2020-02-10T17:31:22.447Z - saved some data to the events stream!\n",
      "2020-02-10T17:31:25.382Z - saved some data to the events stream!\n",
      "2020-02-10T17:31:28.313Z - saved some data to the events stream!\n",
      "2020-02-10T17:31:31.270Z - saved some data to the events stream!\n",
      "2020-02-10T17:31:34.225Z - saved some data to the events stream!\n",
      "2020-02-10T17:31:37.185Z - saved some data to the events stream!\n",
      "2020-02-10T17:31:40.155Z - saved some data to the events stream!\n",
      "2020-02-10T17:31:43.097Z - saved some data to the events stream!\n",
      "2020-02-10T17:31:46.025Z - saved some data to the events stream!\n",
      "2020-02-10T17:31:49.003Z - saved some data to the events stream!\n",
      "2020-02-10T17:31:51.955Z - saved some data to the events stream!\n",
      "2020-02-10T17:31:54.899Z - saved some data to the events stream!\n",
      "2020-02-10T17:31:57.826Z - saved some data to the events stream!\n",
      "2020-02-10T17:32:00.826Z - saved some data to the events stream!\n",
      "2020-02-10T17:32:03.765Z - saved some data to the events stream!\n",
      "2020-02-10T17:32:06.754Z - saved some data to the events stream!\n",
      "2020-02-10T17:32:09.690Z - saved some data to the events stream!\n",
      "2020-02-10T17:32:12.665Z - saved some data to the events stream!\n",
      "2020-02-10T17:32:15.622Z - saved some data to the events stream!\n",
      "2020-02-10T17:32:18.548Z - saved some data to the events stream!\n",
      "2020-02-10T17:32:21.522Z - saved some data to the events stream!\n",
      "2020-02-10T17:32:24.523Z - saved some data to the events stream!\n",
      "2020-02-10T17:32:27.455Z - saved some data to the events stream!\n",
      "2020-02-10T17:32:30.400Z - saved some data to the events stream!\n",
      "2020-02-10T17:32:33.352Z - saved some data to the events stream!\n"
     ]
    }
   ],
   "source": [
    "import java.util.{Calendar, Timer, TimerTask}\n",
    "\n",
    "val timer = new Timer()\n",
    "\n",
    "val task = new TimerTask {\n",
    "  def run(): Unit = {\n",
    "      val data = raw_sentiment.sample(fraction=0.00001,withReplacement=true)\n",
    "      data.coalesce(1).write.format(\"json\").mode(\"append\").save(\"/home/jovyan/data/events-stream\")\n",
    "      println(s\"${Calendar.getInstance().toInstant} - saved some data to the events stream!\")\n",
    "  } \n",
    "}\n",
    "\n",
    "println(\"Streaming started!\")\n",
    "\n",
    "timer.schedule(task, 1000L, 1000L)"
   ]
  },
  {
   "cell_type": "code",
   "execution_count": 4,
   "metadata": {},
   "outputs": [
    {
     "data": {
      "text/plain": [
       "true"
      ]
     },
     "execution_count": 4,
     "metadata": {},
     "output_type": "execute_result"
    }
   ],
   "source": [
    "task.cancel()"
   ]
  },
  {
   "cell_type": "code",
   "execution_count": null,
   "metadata": {},
   "outputs": [],
   "source": []
  }
 ],
 "metadata": {
  "kernelspec": {
   "display_name": "Apache Toree - Scala",
   "language": "scala",
   "name": "apache_toree_scala"
  },
  "language_info": {
   "codemirror_mode": "text/x-scala",
   "file_extension": ".scala",
   "mimetype": "text/x-scala",
   "name": "scala",
   "pygments_lexer": "scala",
   "version": "2.11.12"
  }
 },
 "nbformat": 4,
 "nbformat_minor": 4
}
